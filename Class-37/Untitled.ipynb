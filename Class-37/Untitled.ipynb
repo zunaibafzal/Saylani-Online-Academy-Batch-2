{
 "cells": [
  {
   "cell_type": "code",
   "execution_count": null,
   "metadata": {},
   "outputs": [
    {
     "name": "stdout",
     "output_type": "stream",
     "text": [
      "Enter city Name, or write q to quitquetta\n"
     ]
    }
   ],
   "source": [
    "cleanest_cities = [\"quetta\",\"islamabad\",\"peshawar\"]\n",
    "\n",
    "keep_looping = True\n",
    "while keep_looping == True:\n",
    "    user_input = input(\"Enter city Name, or write q to quit\")\n",
    "    if user_input == \"q\":\n",
    "        keep_looping = False\n",
    "        for city in cleanest_cities:\n",
    "            if user_input == city:\n",
    "                print(\"It is one of the cleanest city\")\n",
    "                break"
   ]
  },
  {
   "cell_type": "code",
   "execution_count": null,
   "metadata": {},
   "outputs": [],
   "source": []
  }
 ],
 "metadata": {
  "kernelspec": {
   "display_name": "Python 3",
   "language": "python",
   "name": "python3"
  },
  "language_info": {
   "codemirror_mode": {
    "name": "ipython",
    "version": 3
   },
   "file_extension": ".py",
   "mimetype": "text/x-python",
   "name": "python",
   "nbconvert_exporter": "python",
   "pygments_lexer": "ipython3",
   "version": "3.7.1"
  }
 },
 "nbformat": 4,
 "nbformat_minor": 2
}
