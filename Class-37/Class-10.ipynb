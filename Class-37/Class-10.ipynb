{
 "cells": [
  {
   "cell_type": "code",
   "execution_count": 7,
   "metadata": {},
   "outputs": [
    {
     "name": "stdout",
     "output_type": "stream",
     "text": [
      "15\n",
      "20\n"
     ]
    }
   ],
   "source": [
    "#Local vs. global variables\n",
    "\n",
    "a = 5\n",
    "b = 10\n",
    "\n",
    "\n",
    "def add(a, b):\n",
    "    c = a + b\n",
    "    print(c)\n",
    "\n",
    "    \n",
    "def sub():\n",
    "    x = 30\n",
    "    y = 10\n",
    "    z = x - y\n",
    "    add(a,b)\n",
    "    print(z)\n",
    "    \n",
    "    \n",
    "sub()\n"
   ]
  },
  {
   "cell_type": "code",
   "execution_count": 10,
   "metadata": {},
   "outputs": [
    {
     "name": "stdout",
     "output_type": "stream",
     "text": [
      "Hi\n",
      "zunaib afzal\n"
     ]
    }
   ],
   "source": [
    "\n",
    "def what_you_say():\n",
    "    a = \"Hi\"\n",
    "    print(a)\n",
    "\n",
    "def name(fName,lName):\n",
    "    fullName = fName + \" \" + lName\n",
    "    what_you_say()\n",
    "    print(fullName)\n",
    "\n",
    "name(\"zunaib\",\"afzal\")"
   ]
  },
  {
   "cell_type": "markdown",
   "metadata": {},
   "source": [
    "<h1>While Loop</h1>"
   ]
  },
  {
   "cell_type": "code",
   "execution_count": null,
   "metadata": {},
   "outputs": [],
   "source": [
    "cleanest_cities = [\"quetta\",\"islamabad\",\"peshawar\"]\n",
    "\n",
    "keep_looping = True\n",
    "while keep_looping == True:\n",
    "    user_input = input(\"Enter city Name, or write q to quit\")\n",
    "    if user_input == \"q\":\n",
    "        keep_looping = False\n",
    "        for city in cleanest_cities:\n",
    "            if user_input == city:\n",
    "                print(\"It is one of the cleanest city\")\n",
    "                break"
   ]
  },
  {
   "cell_type": "code",
   "execution_count": null,
   "metadata": {},
   "outputs": [],
   "source": []
  },
  {
   "cell_type": "code",
   "execution_count": null,
   "metadata": {},
   "outputs": [],
   "source": []
  }
 ],
 "metadata": {
  "kernelspec": {
   "display_name": "Python 3",
   "language": "python",
   "name": "python3"
  }
 },
 "nbformat": 4,
 "nbformat_minor": 2
}
