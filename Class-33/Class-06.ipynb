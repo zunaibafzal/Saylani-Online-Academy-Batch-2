{
 "cells": [
  {
   "cell_type": "code",
   "execution_count": 10,
   "metadata": {},
   "outputs": [
    {
     "name": "stdout",
     "output_type": "stream",
     "text": [
      "Welcome to Bilal\n",
      "Welcome to Zunaib\n",
      "Welcome to Tariq\n",
      "Welcome to Zarmeen\n",
      "Welcome to Bilal\n",
      "Welcome to Zunaib\n",
      "Welcome to Tariq\n",
      "Welcome to Zarmeen\n"
     ]
    }
   ],
   "source": [
    "#for Loop\n",
    "\n",
    "stu = [\"Bilal\", \"Zunaib\", \"Tariq\", \"Zarmeen\", \"Bilal\", \"Zunaib\", \"Tariq\", \"Zarmeen\"]\n",
    "\n",
    "for a in stu:\n",
    "    print(\"Welcome to \" + a)"
   ]
  },
  {
   "cell_type": "code",
   "execution_count": 32,
   "metadata": {},
   "outputs": [
    {
     "name": "stdout",
     "output_type": "stream",
     "text": [
      "8  x  1  =  8\n",
      "8  x  2  =  16\n",
      "8  x  3  =  24\n",
      "8  x  4  =  32\n",
      "8  x  5  =  40\n",
      "8  x  6  =  48\n",
      "8  x  7  =  56\n",
      "8  x  8  =  64\n",
      "8  x  9  =  72\n",
      "8  x  10  =  80\n"
     ]
    }
   ],
   "source": [
    "#for Loop #Numbers\n",
    "\n",
    "num = 8\n",
    "\n",
    "for a in range(1, 11):\n",
    "    print(num, \" x \", a, \" = \", a*num)"
   ]
  },
  {
   "cell_type": "code",
   "execution_count": 26,
   "metadata": {},
   "outputs": [
    {
     "name": "stdout",
     "output_type": "stream",
     "text": [
      "Zunaib 2\n"
     ]
    }
   ],
   "source": [
    "z = 2\n",
    "print(\"Zunaib \" + str(z))"
   ]
  },
  {
   "cell_type": "code",
   "execution_count": 30,
   "metadata": {},
   "outputs": [
    {
     "name": "stdout",
     "output_type": "stream",
     "text": [
      "zunaib 2.25 2\n"
     ]
    }
   ],
   "source": [
    "x = \"zunaib\"\n",
    "y = 2.25\n",
    "z = 2\n",
    "\n",
    "print(x, y, z)"
   ]
  },
  {
   "cell_type": "code",
   "execution_count": 41,
   "metadata": {},
   "outputs": [
    {
     "name": "stdout",
     "output_type": "stream",
     "text": [
      "['Muhammad Bilal', 'Muhammad Zunaib', 'Muhammad Tariq', 'Muhammad Bilal', 'Muhammad Zunaib']\n"
     ]
    }
   ],
   "source": [
    "#Nested For Loop\n",
    "\n",
    "firstName = [\"Muhammad\"]\n",
    "\n",
    "lastName = [\"Bilal\", \"Zunaib\", \"Tariq\", \"Bilal\", \"Zunaib\"]\n",
    "\n",
    "fullName = []\n",
    "\n",
    "for first in firstName:\n",
    "    for last in lastName:\n",
    "        fullName.append(first + \" \" + last) \n",
    "print(fullName)"
   ]
  },
  {
   "cell_type": "code",
   "execution_count": 46,
   "metadata": {},
   "outputs": [
    {
     "name": "stdout",
     "output_type": "stream",
     "text": [
      "Lower Case: zunaib\n",
      "Upper Case: ZUNAIB\n",
      "Title Case: Zunaib\n"
     ]
    }
   ],
   "source": [
    "#Change Case\n",
    "#lastName = [\"Bilal\", \"Zunaib\", \"Tariq\", \"Bilal\", \"Zunaib\"]\n",
    "\n",
    "name = \"ZunAiB\"\n",
    "\n",
    "print(\"Lower Case: \" + name.lower())\n",
    "print(\"Upper Case: \" + name.upper())\n",
    "print(\"Title Case: \" + name.title())"
   ]
  },
  {
   "cell_type": "code",
   "execution_count": 48,
   "metadata": {},
   "outputs": [
    {
     "name": "stdout",
     "output_type": "stream",
     "text": [
      "Upper Case: BILAL\n",
      "Upper Case: ZUNAIB\n",
      "Upper Case: TARIQ\n",
      "Upper Case: BILAL\n",
      "Upper Case: ZUNAIB\n"
     ]
    }
   ],
   "source": [
    "#Change Case\n",
    "lastName = [\"Bilal\", \"Zunaib\", \"Tariq\", \"Bilal\", \"Zunaib\"]\n",
    "\n",
    "for name in lastName:\n",
    "    print(\"Upper Case: \" + name.upper())"
   ]
  },
  {
   "cell_type": "code",
   "execution_count": null,
   "metadata": {},
   "outputs": [],
   "source": [
    "#Change Case\n",
    "lastName = [\"Bilal\", \"Zunaib\", \"Tariq\", \"Bilal\", \"Zunaib\"]\n",
    "\n",
    "for name in lastName:\n",
    "    print(\"Upper Case: \" + name.upper())"
   ]
  },
  {
   "cell_type": "code",
   "execution_count": 56,
   "metadata": {},
   "outputs": [
    {
     "name": "stdout",
     "output_type": "stream",
     "text": [
      "Muhammad Afzal\n"
     ]
    }
   ],
   "source": [
    "#Dictionaries\n",
    "\n",
    "students = {\n",
    "                1:        \"Zunaib\",\n",
    "                2:  \"Muhammad Afzal\",\n",
    "                3:       \"7th\",\n",
    "                4:       524    \n",
    "            }\n",
    "\n",
    "print(students[2])\n",
    "\n"
   ]
  },
  {
   "cell_type": "code",
   "execution_count": null,
   "metadata": {},
   "outputs": [],
   "source": []
  },
  {
   "cell_type": "code",
   "execution_count": null,
   "metadata": {},
   "outputs": [],
   "source": []
  },
  {
   "cell_type": "code",
   "execution_count": null,
   "metadata": {},
   "outputs": [],
   "source": []
  }
 ],
 "metadata": {
  "kernelspec": {
   "display_name": "Python 3",
   "language": "python",
   "name": "python3"
  },
  "language_info": {
   "codemirror_mode": {
    "name": "ipython",
    "version": 3
   },
   "file_extension": ".py",
   "mimetype": "text/x-python",
   "name": "python",
   "nbconvert_exporter": "python",
   "pygments_lexer": "ipython3",
   "version": "3.7.1"
  }
 },
 "nbformat": 4,
 "nbformat_minor": 2
}
