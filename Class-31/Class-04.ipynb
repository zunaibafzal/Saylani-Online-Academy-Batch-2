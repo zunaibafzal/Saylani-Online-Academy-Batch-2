{
 "cells": [
  {
   "cell_type": "code",
   "execution_count": 2,
   "metadata": {},
   "outputs": [
    {
     "name": "stdout",
     "output_type": "stream",
     "text": [
      "8\n",
      "-2\n",
      "15\n",
      "0.6\n"
     ]
    }
   ],
   "source": [
    "a = 3\n",
    "b = 5\n",
    "print(a + b)\n",
    "print(a - b)\n",
    "print(a * b)\n",
    "print(a / b)"
   ]
  },
  {
   "cell_type": "code",
   "execution_count": 4,
   "metadata": {},
   "outputs": [
    {
     "name": "stdout",
     "output_type": "stream",
     "text": [
      "saylani\n"
     ]
    }
   ],
   "source": [
    "#Case Sensitive\n",
    "name = \"saylani\"\n",
    "Name = \"online\"\n",
    "print(name)"
   ]
  },
  {
   "cell_type": "code",
   "execution_count": 5,
   "metadata": {},
   "outputs": [
    {
     "name": "stdout",
     "output_type": "stream",
     "text": [
      "Saylani Online Academy\n"
     ]
    }
   ],
   "source": [
    "#Concetenation\n",
    "fName = \"Saylani\"\n",
    "mName = \"Online\"\n",
    "lName = \"Academy\"\n",
    "\n",
    "space = \" \"\n",
    "\n",
    "Full_Name = fName + space + mName + space + lName\n",
    "print(Full_Name)"
   ]
  },
  {
   "cell_type": "code",
   "execution_count": 8,
   "metadata": {},
   "outputs": [
    {
     "data": {
      "text/plain": [
       "str"
      ]
     },
     "execution_count": 8,
     "metadata": {},
     "output_type": "execute_result"
    }
   ],
   "source": [
    "#data types #string #integer #float\n",
    "a = 10 #int\n",
    "b = \"saylani\" # string\n",
    "c = 5.2 #float\n",
    "type(b)"
   ]
  },
  {
   "cell_type": "code",
   "execution_count": 11,
   "metadata": {},
   "outputs": [
    {
     "name": "stdout",
     "output_type": "stream",
     "text": [
      "You are Right\n"
     ]
    }
   ],
   "source": [
    "#if statement\n",
    "a = 20\n",
    "b = 12\n",
    "c = 8\n",
    "\n",
    "#d = c + b\n",
    "\n",
    "if a == c + b:\n",
    "    print(\"You are Right\")\n",
    "else:\n",
    "    print(\"You are Wrong\")"
   ]
  },
  {
   "cell_type": "code",
   "execution_count": 17,
   "metadata": {},
   "outputs": [
    {
     "name": "stdout",
     "output_type": "stream",
     "text": [
      "81\n"
     ]
    }
   ],
   "source": [
    "# 3 * 3\n",
    "a = 9 ** 2\n",
    "print(a)"
   ]
  },
  {
   "cell_type": "code",
   "execution_count": 27,
   "metadata": {},
   "outputs": [
    {
     "name": "stdout",
     "output_type": "stream",
     "text": [
      " Saylani \n",
      " Mass \n",
      " IT \n",
      " Training \n"
     ]
    }
   ],
   "source": [
    "print(\" Saylani \\n Mass \\n IT \\n Training \")"
   ]
  },
  {
   "cell_type": "code",
   "execution_count": 30,
   "metadata": {},
   "outputs": [
    {
     "name": "stdout",
     "output_type": "stream",
     "text": [
      " Saylani \n",
      "\t Mass \n",
      "\t\t IT \n",
      "\t\t\t Training \n"
     ]
    }
   ],
   "source": [
    "print(\" Saylani \\n\\t Mass \\n\\t\\t IT \\n\\t\\t\\t Training \")"
   ]
  },
  {
   "cell_type": "code",
   "execution_count": 31,
   "metadata": {},
   "outputs": [
    {
     "name": "stdout",
     "output_type": "stream",
     "text": [
      "What is your name?: Zunaib\n"
     ]
    }
   ],
   "source": [
    "#input Function\n",
    "x = input(\"What is your name?: \")"
   ]
  },
  {
   "cell_type": "code",
   "execution_count": 32,
   "metadata": {},
   "outputs": [
    {
     "name": "stdout",
     "output_type": "stream",
     "text": [
      "Zunaib\n"
     ]
    }
   ],
   "source": [
    "print(x)"
   ]
  },
  {
   "cell_type": "code",
   "execution_count": 33,
   "metadata": {},
   "outputs": [
    {
     "name": "stdout",
     "output_type": "stream",
     "text": [
      "Write here your first number: 2\n",
      "Write here your 2nd number: 50\n"
     ]
    }
   ],
   "source": [
    "#input Function #int\n",
    "x = input(\"Write here your first number: \")\n",
    "y = input(\"Write here your 2nd number: \")"
   ]
  },
  {
   "cell_type": "code",
   "execution_count": 34,
   "metadata": {},
   "outputs": [
    {
     "data": {
      "text/plain": [
       "str"
      ]
     },
     "execution_count": 34,
     "metadata": {},
     "output_type": "execute_result"
    }
   ],
   "source": [
    "type(x)"
   ]
  },
  {
   "cell_type": "code",
   "execution_count": 36,
   "metadata": {},
   "outputs": [
    {
     "name": "stdout",
     "output_type": "stream",
     "text": [
      "Write here your first number: 25\n",
      "Write here your 2nd number: 50\n"
     ]
    }
   ],
   "source": [
    "#input Function #int\n",
    "x = int(input(\"Write here your first number: \"))\n",
    "y = int(input(\"Write here your 2nd number: \"))"
   ]
  },
  {
   "cell_type": "code",
   "execution_count": 37,
   "metadata": {},
   "outputs": [
    {
     "data": {
      "text/plain": [
       "int"
      ]
     },
     "execution_count": 37,
     "metadata": {},
     "output_type": "execute_result"
    }
   ],
   "source": [
    "type(x)"
   ]
  },
  {
   "cell_type": "code",
   "execution_count": 42,
   "metadata": {},
   "outputs": [
    {
     "name": "stdout",
     "output_type": "stream",
     "text": [
      "a) What is your name?: abbas\n",
      "b) What is your name?: abbas\n",
      "Right Answer\n"
     ]
    }
   ],
   "source": [
    "#Input Function #if statement #Equal to\n",
    "a = input(\"a) What is your name?: \")\n",
    "b = input(\"b) What is your name?: \")\n",
    "\n",
    "if a == b:\n",
    "    print(\"Right Answer\")\n",
    "else:\n",
    "    print(\"Wrong Answer\")"
   ]
  },
  {
   "cell_type": "code",
   "execution_count": 40,
   "metadata": {},
   "outputs": [
    {
     "name": "stdout",
     "output_type": "stream",
     "text": [
      "a) What is your name?: zunaib\n",
      "b) What is your name?: bilal\n",
      "Right Answer\n"
     ]
    }
   ],
   "source": [
    "#Input Function #if statement #Not Equal to\n",
    "a = input(\"a) What is your name?: \")\n",
    "b = input(\"b) What is your name?: \")\n",
    "\n",
    "if a != b:\n",
    "    print(\"Right Answer\")\n",
    "else:\n",
    "    print(\"Wrong Answer\")"
   ]
  },
  {
   "cell_type": "code",
   "execution_count": 44,
   "metadata": {},
   "outputs": [
    {
     "name": "stdout",
     "output_type": "stream",
     "text": [
      "5th Condition True\n"
     ]
    }
   ],
   "source": [
    "#else and elif statement\n",
    "\n",
    "a = 5\n",
    "b = 10\n",
    "c = 20\n",
    "d = 10\n",
    "\n",
    "if a == b:\n",
    "    print(\"1st Condition True\")     \n",
    "elif  a == c:\n",
    "    print(\"2nd Condition True\")\n",
    "elif  a == d:\n",
    "    print(\"3rd Condition True\")\n",
    "elif  b == c:\n",
    "    print(\"4th Condition True\")\n",
    "elif  b == d:\n",
    "    print(\"5th Condition True\")\n",
    "else:\n",
    "    print(\"All Conditions are False\")"
   ]
  },
  {
   "cell_type": "code",
   "execution_count": 45,
   "metadata": {},
   "outputs": [
    {
     "name": "stdout",
     "output_type": "stream",
     "text": [
      "False\n"
     ]
    }
   ],
   "source": [
    "#Testing Sets Conditions\n",
    "a = 5\n",
    "b = 10\n",
    "c = 15\n",
    "d = 20\n",
    "\n",
    "if (a == b or a == c) and b == d:   \n",
    "    print(\"True\")        \n",
    "else:\n",
    "    print(\"False\")  "
   ]
  },
  {
   "cell_type": "code",
   "execution_count": 51,
   "metadata": {},
   "outputs": [
    {
     "name": "stdout",
     "output_type": "stream",
     "text": [
      "i) Subject-01: 50\n",
      "ii) Subject-02: 90\n",
      "Fail\n"
     ]
    }
   ],
   "source": [
    "#int()\n",
    "\n",
    "a = int(input(\"i) Subject-01: \"))\n",
    "b = int(input(\"ii) Subject-02: \"))\n",
    "\n",
    "total = ((a + b) / 2)\n",
    "\n",
    "if total >= 80:\n",
    "    print(\"A+\")\n",
    "else:\n",
    "    print(\"Fail\")"
   ]
  },
  {
   "cell_type": "code",
   "execution_count": 56,
   "metadata": {},
   "outputs": [
    {
     "name": "stdout",
     "output_type": "stream",
     "text": [
      "Faiz\n"
     ]
    }
   ],
   "source": [
    "#list\n",
    "\n",
    "students = [\"zunaib\", False, 5.25, 1000, \"Faiz\"]\n",
    "print(students[4])\n"
   ]
  },
  {
   "cell_type": "code",
   "execution_count": 57,
   "metadata": {},
   "outputs": [
    {
     "data": {
      "text/plain": [
       "['zunaib', False, 5.25, 1000, 'Faiz']"
      ]
     },
     "execution_count": 57,
     "metadata": {},
     "output_type": "execute_result"
    }
   ],
   "source": [
    "students"
   ]
  },
  {
   "cell_type": "code",
   "execution_count": 60,
   "metadata": {},
   "outputs": [
    {
     "name": "stdout",
     "output_type": "stream",
     "text": [
      "['zunaib', False, 5.25, 1000, 'Faiz', 500]\n"
     ]
    }
   ],
   "source": [
    "#list\n",
    "\n",
    "students = [\"zunaib\", False, 5.25, 1000, \"Faiz\"]\n",
    "\n",
    "students.append(500)\n",
    "\n",
    "print(students)"
   ]
  },
  {
   "cell_type": "code",
   "execution_count": 61,
   "metadata": {},
   "outputs": [
    {
     "data": {
      "text/plain": [
       "['zunaib', False, 5.25, 1000, 'Faiz', 500]"
      ]
     },
     "execution_count": 61,
     "metadata": {},
     "output_type": "execute_result"
    }
   ],
   "source": [
    "students"
   ]
  },
  {
   "cell_type": "code",
   "execution_count": 63,
   "metadata": {},
   "outputs": [
    {
     "name": "stdout",
     "output_type": "stream",
     "text": [
      "['zunaib', False, 5.25, 1000, 'Bilal', 500]\n"
     ]
    }
   ],
   "source": [
    "#list\n",
    "\n",
    "students[4] = \"Bilal\"\n",
    "\n",
    "print(students)"
   ]
  },
  {
   "cell_type": "code",
   "execution_count": 64,
   "metadata": {},
   "outputs": [
    {
     "name": "stdout",
     "output_type": "stream",
     "text": [
      "['zunaib', 'Usman', False, 5.25, 1000, 'Bilal', 500]\n"
     ]
    }
   ],
   "source": [
    "#list #insert function\n",
    "\n",
    "students.insert(1, \"Usman\")\n",
    "\n",
    "print(students)"
   ]
  },
  {
   "cell_type": "code",
   "execution_count": 66,
   "metadata": {},
   "outputs": [
    {
     "name": "stdout",
     "output_type": "stream",
     "text": [
      "['zunaib', 'Usman', False, 5.25, 'Nabiha', 'Nabiha', 1000, 'Bilal', 500]\n"
     ]
    }
   ],
   "source": [
    "students.insert(4, \"Nabiha\")\n",
    "\n",
    "print(students)"
   ]
  },
  {
   "cell_type": "code",
   "execution_count": 69,
   "metadata": {},
   "outputs": [
    {
     "name": "stdout",
     "output_type": "stream",
     "text": [
      "['zunaib', 'Usman', False, 5.25, 'Nabiha']\n"
     ]
    }
   ],
   "source": [
    "#slicing\n",
    "academy = students[0:5]\n",
    "\n",
    "print(academy)"
   ]
  },
  {
   "cell_type": "code",
   "execution_count": null,
   "metadata": {},
   "outputs": [],
   "source": []
  },
  {
   "cell_type": "code",
   "execution_count": null,
   "metadata": {},
   "outputs": [],
   "source": []
  },
  {
   "cell_type": "code",
   "execution_count": null,
   "metadata": {},
   "outputs": [],
   "source": []
  }
 ],
 "metadata": {
  "kernelspec": {
   "display_name": "Python 3",
   "language": "python",
   "name": "python3"
  },
  "language_info": {
   "codemirror_mode": {
    "name": "ipython",
    "version": 3
   },
   "file_extension": ".py",
   "mimetype": "text/x-python",
   "name": "python",
   "nbconvert_exporter": "python",
   "pygments_lexer": "ipython3",
   "version": "3.7.1"
  }
 },
 "nbformat": 4,
 "nbformat_minor": 2
}
