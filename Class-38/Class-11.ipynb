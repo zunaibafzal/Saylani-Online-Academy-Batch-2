{
 "cells": [
  {
   "cell_type": "code",
   "execution_count": 26,
   "metadata": {},
   "outputs": [],
   "source": [
    "#Classes\n",
    "\n",
    "class Patient():\n",
    "    def __init__(self, first_Name, last_Name, age):\n",
    "        \n",
    "        self.fName = first_Name\n",
    "        \n",
    "        self.lName = last_Name\n",
    "        \n",
    "        self.age = age\n",
    "        \n",
    "        self.city = \"Karachi\"\n",
    "        \n",
    "    def PatientInfo(self):\n",
    "        print(f\"Patient First Name: \\t {self.fName}\")\n",
    "        print(f\"Patient Last Name: \\t {self.lName}\")\n",
    "        print(f\"Patient Age: \\t\\t {self.age}\")\n",
    "        print(f\"Patient City: \\t\\t {self.city}\")\n",
    "\n",
    "\n",
    "pid01 = Patient(\"Zunaib\", \"Afzal\", \"15 Years\")\n",
    "\n",
    "pid02 = Patient(\"Bilal\", \"Ahmed\", \"20 Years\")\n",
    "\n",
    "pid03 = Patient(\"Maaz\", \"Khan\", \"22 Years\")"
   ]
  },
  {
   "cell_type": "code",
   "execution_count": 8,
   "metadata": {},
   "outputs": [
    {
     "data": {
      "text/plain": [
       "'Zunaib'"
      ]
     },
     "execution_count": 8,
     "metadata": {},
     "output_type": "execute_result"
    }
   ],
   "source": [
    "pid01.fName"
   ]
  },
  {
   "cell_type": "code",
   "execution_count": 10,
   "metadata": {},
   "outputs": [
    {
     "data": {
      "text/plain": [
       "'15 Years'"
      ]
     },
     "execution_count": 10,
     "metadata": {},
     "output_type": "execute_result"
    }
   ],
   "source": [
    "pid01.age"
   ]
  },
  {
   "cell_type": "code",
   "execution_count": 12,
   "metadata": {},
   "outputs": [
    {
     "data": {
      "text/plain": [
       "'Maaz'"
      ]
     },
     "execution_count": 12,
     "metadata": {},
     "output_type": "execute_result"
    }
   ],
   "source": [
    "pid03.fName"
   ]
  },
  {
   "cell_type": "code",
   "execution_count": 15,
   "metadata": {},
   "outputs": [
    {
     "name": "stdout",
     "output_type": "stream",
     "text": [
      "Zunaib Afzal 15 Years\n"
     ]
    }
   ],
   "source": [
    "print(pid01.fName, pid01.lName, pid01.age)"
   ]
  },
  {
   "cell_type": "code",
   "execution_count": 22,
   "metadata": {},
   "outputs": [
    {
     "name": "stdout",
     "output_type": "stream",
     "text": [
      "Patient First Name: \t Bilal\n",
      "Patient Last Name: \t Ahmed\n",
      "Patient Age: \t\t 20 Years\n"
     ]
    }
   ],
   "source": [
    "pid02.PatientInfo()"
   ]
  },
  {
   "cell_type": "code",
   "execution_count": 25,
   "metadata": {},
   "outputs": [
    {
     "data": {
      "text/plain": [
       "'Karachi'"
      ]
     },
     "execution_count": 25,
     "metadata": {},
     "output_type": "execute_result"
    }
   ],
   "source": [
    "pid01.city"
   ]
  },
  {
   "cell_type": "code",
   "execution_count": 29,
   "metadata": {},
   "outputs": [
    {
     "name": "stdout",
     "output_type": "stream",
     "text": [
      "Patient First Name: \t Bilal\n",
      "Patient Last Name: \t Ahmed\n",
      "Patient Age: \t\t 20 Years\n",
      "Patient City: \t\t Karachi\n"
     ]
    }
   ],
   "source": [
    "pid02.PatientInfo()"
   ]
  },
  {
   "cell_type": "code",
   "execution_count": 30,
   "metadata": {},
   "outputs": [],
   "source": [
    "pid03.city = \"Lahore\""
   ]
  },
  {
   "cell_type": "code",
   "execution_count": 36,
   "metadata": {},
   "outputs": [
    {
     "name": "stdout",
     "output_type": "stream",
     "text": [
      "Patient First Name: \t Zunaib\n",
      "Patient Last Name: \t Afzal\n",
      "Patient Age: \t\t 15 Years\n",
      "Patient City: \t\t Karachi\n",
      "\n",
      "\n",
      "Patient First Name: \t Bilal\n",
      "Patient Last Name: \t Ahmed\n",
      "Patient Age: \t\t 20 Years\n",
      "Patient City: \t\t Karachi\n",
      "\n",
      "\n",
      "Patient First Name: \t Maaz\n",
      "Patient Last Name: \t Khan\n",
      "Patient Age: \t\t 22 Years\n",
      "Patient City: \t\t Lahore\n"
     ]
    }
   ],
   "source": [
    "pid01.PatientInfo()\n",
    "print(\"\\n\")\n",
    "pid02.PatientInfo()\n",
    "print(\"\\n\")\n",
    "pid03.PatientInfo()"
   ]
  },
  {
   "cell_type": "code",
   "execution_count": null,
   "metadata": {},
   "outputs": [],
   "source": []
  },
  {
   "cell_type": "code",
   "execution_count": null,
   "metadata": {},
   "outputs": [],
   "source": []
  },
  {
   "cell_type": "code",
   "execution_count": null,
   "metadata": {},
   "outputs": [],
   "source": []
  },
  {
   "cell_type": "code",
   "execution_count": null,
   "metadata": {},
   "outputs": [],
   "source": []
  },
  {
   "cell_type": "code",
   "execution_count": null,
   "metadata": {},
   "outputs": [],
   "source": []
  }
 ],
 "metadata": {
  "kernelspec": {
   "display_name": "Python 3",
   "language": "python",
   "name": "python3"
  },
  "language_info": {
   "codemirror_mode": {
    "name": "ipython",
    "version": 3
   },
   "file_extension": ".py",
   "mimetype": "text/x-python",
   "name": "python",
   "nbconvert_exporter": "python",
   "pygments_lexer": "ipython3",
   "version": "3.7.1"
  }
 },
 "nbformat": 4,
 "nbformat_minor": 2
}
