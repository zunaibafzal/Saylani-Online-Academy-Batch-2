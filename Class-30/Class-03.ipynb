{
 "cells": [
  {
   "cell_type": "code",
   "execution_count": 22,
   "metadata": {},
   "outputs": [
    {
     "name": "stdout",
     "output_type": "stream",
     "text": [
      "No\n"
     ]
    }
   ],
   "source": [
    "\n",
    "if 1 <= 0:\n",
    "    print(\"Yes\")\n",
    "else:\n",
    "    print(\"No\")"
   ]
  },
  {
   "cell_type": "code",
   "execution_count": 29,
   "metadata": {},
   "outputs": [
    {
     "name": "stdout",
     "output_type": "stream",
     "text": [
      "Wrong Information\n"
     ]
    }
   ],
   "source": [
    "name = \"Zunaib\"\n",
    "fName = \"Afzal\"\n",
    "cls = \"5th\"\n",
    "\n",
    "if name == \"Bilal\":\n",
    "    print(\"Name:\" + name)\n",
    "elif fName == \"Ahmed\":\n",
    "    print(\"Father Name:\" + fName)\n",
    "elif cls == \"6th\":\n",
    "    print(\"Class:\" + cls)\n",
    "else:\n",
    "    print(\"Wrong Information\")"
   ]
  },
  {
   "cell_type": "code",
   "execution_count": 35,
   "metadata": {},
   "outputs": [
    {
     "name": "stdout",
     "output_type": "stream",
     "text": [
      "Wrong Information\n"
     ]
    }
   ],
   "source": [
    "fName = \"Zunaib\"\n",
    "lName = \"Afzal\"\n",
    "\n",
    "if fName == \"Bilal\" or lName == \"Ahmed\":\n",
    "    print(\"Yes You are right\")\n",
    "else:\n",
    "    print(\"Wrong Information\")"
   ]
  },
  {
   "cell_type": "code",
   "execution_count": 56,
   "metadata": {},
   "outputs": [
    {
     "name": "stdout",
     "output_type": "stream",
     "text": [
      "Wrong Information\n"
     ]
    }
   ],
   "source": [
    "fName = \"Muhammad\"\n",
    "mName = \"Zunaib\"\n",
    "lName = \"Afzal\"\n",
    "\n",
    "if (fName == \"Muhammad\" or mName == \"Zunaib\") and lName == \"Ahmed\":\n",
    "    print(\"Yes You are right\")\n",
    "else:\n",
    "    print(\"Wrong Information\")"
   ]
  },
  {
   "cell_type": "code",
   "execution_count": 67,
   "metadata": {},
   "outputs": [
    {
     "name": "stdout",
     "output_type": "stream",
     "text": [
      "Wrong Information Outer IF Statement\n"
     ]
    }
   ],
   "source": [
    "fName = \"Zunaib\"\n",
    "lName = \"Afzal\"\n",
    "\n",
    "if fName == \"Bilal\":\n",
    "    if lName == \"Afzal\":\n",
    "        print(\"Yes You are right\")\n",
    "    else:\n",
    "        print(\"Wrong Information Inner IF Statement\")\n",
    "else:\n",
    "    print(\"Wrong Information Outer IF Statement\")"
   ]
  },
  {
   "cell_type": "code",
   "execution_count": null,
   "metadata": {},
   "outputs": [],
   "source": []
  },
  {
   "cell_type": "code",
   "execution_count": null,
   "metadata": {},
   "outputs": [],
   "source": []
  },
  {
   "cell_type": "code",
   "execution_count": null,
   "metadata": {},
   "outputs": [],
   "source": []
  }
 ],
 "metadata": {
  "kernelspec": {
   "display_name": "Python 3",
   "language": "python",
   "name": "python3"
  },
  "language_info": {
   "codemirror_mode": {
    "name": "ipython",
    "version": 3
   },
   "file_extension": ".py",
   "mimetype": "text/x-python",
   "name": "python",
   "nbconvert_exporter": "python",
   "pygments_lexer": "ipython3",
   "version": "3.7.1"
  }
 },
 "nbformat": 4,
 "nbformat_minor": 2
}
