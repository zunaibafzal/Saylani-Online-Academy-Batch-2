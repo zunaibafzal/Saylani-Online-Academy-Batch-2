{
 "cells": [
  {
   "cell_type": "code",
   "execution_count": 14,
   "metadata": {},
   "outputs": [],
   "source": [
    "import csv"
   ]
  },
  {
   "cell_type": "code",
   "execution_count": 23,
   "metadata": {},
   "outputs": [
    {
     "name": "stdout",
     "output_type": "stream",
     "text": [
      "Write your name: zunaib\n",
      "Write your class: 5th\n",
      "Write your grade: C\n",
      "Write your name: bilal\n",
      "Write your class: 8th\n",
      "Write your grade: B\n"
     ]
    }
   ],
   "source": [
    "with open(\"myfile.csv\", \"w\") as f:\n",
    "    \n",
    "    saylani = csv.writer(f)\n",
    "    \n",
    "    \n",
    "    for i in range(1,3):\n",
    "        \n",
    "        n = input(\"Write your name: \")\n",
    "        c = input(\"Write your class: \")\n",
    "        g = input(\"Write your grade: \")\n",
    "        \n",
    "        saylani.writerow([n,c,g])"
   ]
  },
  {
   "cell_type": "code",
   "execution_count": 32,
   "metadata": {},
   "outputs": [
    {
     "name": "stdout",
     "output_type": "stream",
     "text": [
      "['S.No.', 'Name', 'Class']\n",
      "[]\n",
      "['S.No.', 'Name', 'Class']\n",
      "[]\n",
      "['S.No.', 'Name', 'Class']\n",
      "[]\n",
      "['S.No.', 'Name', 'Class']\n",
      "[]\n",
      "['S.No.', 'Name', 'Class']\n",
      "[]\n",
      "['S.No.', 'Name', 'Class']\n",
      "[]\n",
      "['S.No.', 'Name', 'Class']\n",
      "[]\n",
      "['S.No.', 'Name', 'Class']\n",
      "[]\n",
      "['S.No.', 'Name', 'Class']\n",
      "[]\n"
     ]
    }
   ],
   "source": [
    "with open(\"myfile.csv\", \"r\") as f:\n",
    "    \n",
    "    saylani = csv.reader(f)\n",
    "\n",
    "    for i in saylani:                   \n",
    "        print(i)"
   ]
  },
  {
   "cell_type": "code",
   "execution_count": 33,
   "metadata": {},
   "outputs": [],
   "source": [
    "with open(\"myfile.csv\", \"a\") as f:\n",
    "    \n",
    "    saylani = csv.writer(f)\n",
    "    \n",
    "    saylani.writerow([\"01\",\"Zunaib\",\"5th\"])\n",
    "    \n",
    "    saylani.writerow([\"02\",\"Bilal\",\"8th\"])"
   ]
  },
  {
   "cell_type": "code",
   "execution_count": null,
   "metadata": {},
   "outputs": [],
   "source": []
  },
  {
   "cell_type": "code",
   "execution_count": null,
   "metadata": {},
   "outputs": [],
   "source": []
  }
 ],
 "metadata": {
  "kernelspec": {
   "display_name": "Python 3",
   "language": "python",
   "name": "python3"
  },
  "language_info": {
   "codemirror_mode": {
    "name": "ipython",
    "version": 3
   },
   "file_extension": ".py",
   "mimetype": "text/x-python",
   "name": "python",
   "nbconvert_exporter": "python",
   "pygments_lexer": "ipython3",
   "version": "3.7.1"
  }
 },
 "nbformat": 4,
 "nbformat_minor": 2
}
