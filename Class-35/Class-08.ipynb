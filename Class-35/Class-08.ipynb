{
 "cells": [
  {
   "cell_type": "code",
   "execution_count": 10,
   "metadata": {},
   "outputs": [
    {
     "name": "stdout",
     "output_type": "stream",
     "text": [
      "Saylani Mass IT Training \n",
      "\tSaylani Mass IT Training \n",
      "Saylani Mass IT Training \n",
      "\tSaylani Mass IT Training \n",
      "Saylani Mass IT Training\n"
     ]
    }
   ],
   "source": [
    "print(\"Saylani Mass IT Training \\n\\tSaylani Mass IT Training \\nSaylani Mass IT Training \\n\\tSaylani Mass IT Training \\nSaylani Mass IT Training\")"
   ]
  },
  {
   "cell_type": "code",
   "execution_count": 18,
   "metadata": {},
   "outputs": [
    {
     "name": "stdout",
     "output_type": "stream",
     "text": [
      "\t\tSaylani Mass IT Training \n",
      "Saylani Mass IT Training \tSaylani Mass IT Training \n",
      "\t\tSaylani Mass IT Training \n",
      "Saylani Mass IT Training \tSaylani Mass IT Training \n"
     ]
    }
   ],
   "source": [
    "print(\"\\t\\tSaylani Mass IT Training \\nSaylani Mass IT Training \\tSaylani Mass IT Training \\n\\t\\tSaylani Mass IT Training \\nSaylani Mass IT Training \\tSaylani Mass IT Training \")"
   ]
  },
  {
   "cell_type": "code",
   "execution_count": 21,
   "metadata": {},
   "outputs": [
    {
     "name": "stdout",
     "output_type": "stream",
     "text": [
      "Write a Number: 5\n",
      "5  x  1  =  5\n",
      "5  x  2  =  10\n",
      "5  x  3  =  15\n",
      "5  x  4  =  20\n",
      "5  x  5  =  25\n",
      "5  x  6  =  30\n",
      "5  x  7  =  35\n",
      "5  x  8  =  40\n",
      "5  x  9  =  45\n",
      "5  x  10  =  50\n"
     ]
    }
   ],
   "source": [
    "num = int(input(\"Write a Number: \"))\n",
    "\n",
    "for a in range(1,11):\n",
    "    print(num, \" x \", a, \" = \", num*a)"
   ]
  },
  {
   "cell_type": "code",
   "execution_count": 24,
   "metadata": {},
   "outputs": [
    {
     "name": "stdout",
     "output_type": "stream",
     "text": [
      "a) Write Your Marks Here: 50\n",
      "b) Write Your Marks Here: 50\n",
      "c) Write Your Marks Here: 50\n",
      "d) Write Your Marks Here: 50\n",
      "e) Write Your Marks Here: 50\n",
      "D\n"
     ]
    }
   ],
   "source": [
    "a=int(input(\"a) Write Your Marks Here: \"))\n",
    "b=int(input(\"b) Write Your Marks Here: \"))\n",
    "c=int(input(\"c) Write Your Marks Here: \"))\n",
    "d=int(input(\"d) Write Your Marks Here: \"))\n",
    "e=int(input(\"e) Write Your Marks Here: \"))\n",
    "\n",
    "\n",
    "total = ((a+b+c+d+e)/5)\n",
    "\n",
    "if total >= 90 or total >= 80:\n",
    "    print(\"A+\")\n",
    "elif total >= 79 or total >= 70:\n",
    "    print(\"B\")\n",
    "elif total >= 69 or total >= 60:\n",
    "    print(\"C\")\n",
    "elif total >= 59 or total >= 50:\n",
    "    print(\"D\")\n",
    "else:\n",
    "    print(\"fail\")"
   ]
  },
  {
   "cell_type": "code",
   "execution_count": 30,
   "metadata": {},
   "outputs": [
    {
     "name": "stdout",
     "output_type": "stream",
     "text": [
      "['Karachi', 'Islamabad', 'Multan']\n"
     ]
    }
   ],
   "source": [
    "\n",
    "students = {\n",
    "                \"Name\":        \"Zunaib\",\n",
    "                \"Father Name\": \"Afzal\",\n",
    "                \"Class\":       \"5th\",\n",
    "                \"Age\":         15,\n",
    "                \"Cities\":      [\"Karachi\", \"Lahore\", \"Multan\"]\n",
    "                \n",
    "            }\n",
    "\n",
    "\n",
    "students[\"Cities\"][1] = \"Islamabad\"\n",
    "\n",
    "print(students[\"Cities\"])"
   ]
  },
  {
   "cell_type": "code",
   "execution_count": 34,
   "metadata": {},
   "outputs": [
    {
     "name": "stdout",
     "output_type": "stream",
     "text": [
      "Zunaib\n"
     ]
    }
   ],
   "source": [
    "#Dictionaries in Dictionaries\n",
    "\n",
    "students = {\n",
    "                 1: {                        \n",
    "                        \"Name\":        \"Zunaib\",\n",
    "                        \"Father Name\": \"Afzal\",\n",
    "                        \"Class\":       \"5th\",\n",
    "                        \"Age\":         15,\n",
    "                    },    \n",
    "                 2: {                         \n",
    "                        \"Name\":        \"Bilal\",\n",
    "                        \"Father Name\": \"Ahmed\",\n",
    "                        \"Class\":       \"7th\",\n",
    "                        \"Age\":         17,\n",
    "                    },    \n",
    "                 3: {                          \n",
    "                        \"Name\":        \"Zayan\",\n",
    "                        \"Father Name\": \"Nawaz\",\n",
    "                        \"Class\":       \"8th\",\n",
    "                        \"Age\":         18,\n",
    "                    },\n",
    "            }\n",
    "\n",
    "print(students[1][\"Name\"])"
   ]
  },
  {
   "cell_type": "code",
   "execution_count": 44,
   "metadata": {},
   "outputs": [
    {
     "name": "stdout",
     "output_type": "stream",
     "text": [
      "65\n",
      "45\n",
      "550\n",
      "5.5\n"
     ]
    }
   ],
   "source": [
    "#Functions\n",
    "\n",
    "def add_number(a, b):\n",
    "    c = a + b\n",
    "    print(c)\n",
    "\n",
    "def sub_number(a, b):\n",
    "    c = a - b\n",
    "    print(c)\n",
    "\n",
    "def mul_number(a, b):\n",
    "    c = a * b\n",
    "    print(c)\n",
    "    \n",
    "def div_number(a, b):\n",
    "    c = a / b\n",
    "    print(c)\n",
    "\n",
    "\n",
    "\n",
    "add_number(55, 10)\n",
    "sub_number(55, 10)\n",
    "mul_number(55, 10)\n",
    "div_number(55, 10)"
   ]
  },
  {
   "cell_type": "code",
   "execution_count": 46,
   "metadata": {},
   "outputs": [
    {
     "name": "stdout",
     "output_type": "stream",
     "text": [
      "-45\n"
     ]
    }
   ],
   "source": [
    "#Functions\n",
    "\n",
    "def sub_number(a, b):\n",
    "    c = a - b\n",
    "    print(c)\n",
    "\n",
    "\n",
    "sub_number(10, 55)"
   ]
  }
 ],
 "metadata": {
  "kernelspec": {
   "display_name": "Python 3",
   "language": "python",
   "name": "python3"
  },
  "language_info": {
   "codemirror_mode": {
    "name": "ipython",
    "version": 3
   },
   "file_extension": ".py",
   "mimetype": "text/x-python",
   "name": "python",
   "nbconvert_exporter": "python",
   "pygments_lexer": "ipython3",
   "version": "3.7.1"
  }
 },
 "nbformat": 4,
 "nbformat_minor": 2
}
