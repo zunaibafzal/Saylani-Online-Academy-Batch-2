{
 "cells": [
  {
   "cell_type": "code",
   "execution_count": 1,
   "metadata": {},
   "outputs": [],
   "source": [
    "#QuizApp #Simple List\n",
    "\n",
    "#quiz = [ \"Q1) Color of Apple? \\n a) Red \\n b) Blue \\n c) Green \\n d) Black \\n\", \n",
    "#         \"Q2) Color of Banana? \\n  a) Red \\n  b) Blue \\n  c) Green \\n  d) Yellow \\n\", \n",
    "#         \"Q3) Color of Sky? \\n  a) Red \\n  b) Blue \\n  c) Green \\n  d) Yellow \\n\"        \n",
    "#       ]"
   ]
  },
  {
   "cell_type": "code",
   "execution_count": 14,
   "metadata": {},
   "outputs": [
    {
     "name": "stdout",
     "output_type": "stream",
     "text": [
      "Name\n",
      "Father Name\n",
      "Class\n",
      "Age\n"
     ]
    }
   ],
   "source": [
    "#Adding itmes\n",
    "\n",
    "students = {\n",
    "                \"Name\":        \"Zunaib\",\n",
    "                \"Father Name\": \"Afzal\",\n",
    "                \"Class\":       \"5th\",\n",
    "                \"Age\":         15\n",
    "            }\n",
    "\n",
    "\n",
    "for students_keys in students.keys():\n",
    "    print(students_keys)\n",
    "\n"
   ]
  },
  {
   "cell_type": "code",
   "execution_count": null,
   "metadata": {},
   "outputs": [],
   "source": [
    "#values Function\n",
    "students = {\n",
    "                \"Name\":        \"Zunaib\",\n",
    "                \"Father Name\": \"Afzal\",\n",
    "                \"Class\":       \"5th\",\n",
    "                \"Age\":         15\n",
    "            }\n",
    "\n",
    "\n",
    "for students_values in students.values():\n",
    "    print(students_values)"
   ]
  },
  {
   "cell_type": "code",
   "execution_count": null,
   "metadata": {},
   "outputs": [],
   "source": [
    "#Keys Function\n",
    "students = {\n",
    "                \"Name\":        \"Zunaib\",\n",
    "                \"Father Name\": \"Afzal\",\n",
    "                \"Class\":       \"5th\",\n",
    "                \"Age\":         15\n",
    "            }\n",
    "\n",
    "\n",
    "for students_keys in students.keys():\n",
    "    print(students_keys)"
   ]
  },
  {
   "cell_type": "code",
   "execution_count": 19,
   "metadata": {},
   "outputs": [
    {
     "name": "stdout",
     "output_type": "stream",
     "text": [
      "Keys:  Name \t  Values:  Zunaib\n",
      "Keys:  Father Name \t  Values:  Afzal\n",
      "Keys:  Class \t  Values:  5th\n",
      "Keys:  Age \t  Values:  15\n"
     ]
    }
   ],
   "source": [
    "#items Function\n",
    "\n",
    "students = {\n",
    "                \"Name\":        \"Zunaib\",\n",
    "                \"Father Name\": \"Afzal\",\n",
    "                \"Class\":       \"5th\",\n",
    "                \"Cities\":         15\n",
    "            }\n",
    "\n",
    "\n",
    "\n",
    "for students_keys, students_values in students.items():\n",
    "    print(\"Keys: \", students_keys, \"\\t \", \"Values: \", students_values)"
   ]
  },
  {
   "cell_type": "code",
   "execution_count": 27,
   "metadata": {},
   "outputs": [
    {
     "name": "stdout",
     "output_type": "stream",
     "text": [
      "[{'Name': 'Zunaib', 'Father Name': 'Afzal', 'Class': '5th', 'Age': 15}, {'Name': 'Bilal', 'Father Name': 'Ahmed', 'Class': '7th', 'Age': 17}, {'Name': 'Zayan', 'Father Name': 'Nawaz', 'Class': '8th', 'Age': 18}]\n"
     ]
    }
   ],
   "source": [
    "#List of Dictionaries\n",
    "\n",
    "\n",
    "students = [\n",
    "            {\n",
    "                \"Name\":        \"Zunaib\",\n",
    "                \"Father Name\": \"Afzal\",\n",
    "                \"Class\":       \"5th\",\n",
    "                \"Age\":         15\n",
    "            },\n",
    "            {\n",
    "                \"Name\":        \"Bilal\",\n",
    "                \"Father Name\": \"Ahmed\",\n",
    "                \"Class\":       \"7th\",\n",
    "                \"Age\":         17\n",
    "            }    \n",
    "            ]\n",
    "\n",
    "\n",
    "new_stu =   {\n",
    "                \"Name\":        \"Zayan\",\n",
    "                \"Father Name\": \"Nawaz\",\n",
    "                \"Class\":       \"8th\",\n",
    "                \"Age\":         18\n",
    "            }\n",
    "\n",
    "students.append(new_stu)\n",
    "\n",
    "print(students)"
   ]
  },
  {
   "cell_type": "code",
   "execution_count": 35,
   "metadata": {},
   "outputs": [
    {
     "name": "stdout",
     "output_type": "stream",
     "text": [
      "Q1) Color of Apple? \n",
      " a) Red \n",
      " b) Blue \n",
      " c) Green \n",
      " d) Black \n",
      "\n",
      "Select Option: A\n",
      "Correct Answer\n"
     ]
    }
   ],
   "source": [
    "#QuizApp #Simple Print Function\n",
    "\n",
    "print(\"Q1) Color of Apple? \\n a) Red \\n b) Blue \\n c) Green \\n d) Black \\n\")\n",
    "\n",
    "answer = input(\"Select Option: \")\n",
    "\n",
    "if answer.lower() == \"a\":\n",
    "    print(\"Correct Answer\")\n",
    "else:\n",
    "    print(\"Wrong Answer\")\n"
   ]
  },
  {
   "cell_type": "code",
   "execution_count": 1,
   "metadata": {},
   "outputs": [
    {
     "name": "stdout",
     "output_type": "stream",
     "text": [
      "Q1) Color of Apple? \n",
      " a) Red \n",
      " b) Blue \n",
      " c) Green \n",
      " d) Black \n",
      "a\n",
      "\n",
      " Correct Answer: a\n",
      "Q2) Color of Banana? \n",
      "  a) Red \n",
      "  b) Blue \n",
      "  c) Green \n",
      "  d) Yellow \n",
      "d\n",
      "\n",
      " Correct Answer: d\n",
      "Q3) Color of Sky? \n",
      "  a) Red \n",
      "  b) Green \n",
      "  c) Blue \n",
      "  d) Yellow \n",
      "c\n",
      "\n",
      " Correct Answer: c\n",
      "\n",
      " Wrong Answer\n"
     ]
    }
   ],
   "source": [
    "#QuizApp #Simple List\n",
    "\n",
    "quiz = [ \"Q1) Color of Apple? \\n a) Red \\n b) Blue \\n c) Green \\n d) Black \\n\", \n",
    "        \n",
    "         \"Q2) Color of Banana? \\n  a) Red \\n  b) Blue \\n  c) Green \\n  d) Yellow \\n\", \n",
    "        \n",
    "         \"Q3) Color of Sky? \\n  a) Red \\n  b) Green \\n  c) Blue \\n  d) Yellow \\n\"        \n",
    "       ]\n",
    "\n",
    "ans = [\"a\", \"d\", \"c\"]\n",
    "i = 0\n",
    "\n",
    "for question in quiz:\n",
    "    answer = input(question)\n",
    "    if answer == ans[i]:\n",
    "        i = i+1\n",
    "        \n",
    "    print(\"\\n Correct Answer: \" + answer)\n",
    "else:\n",
    "    print(\"\\n Wrong Answer\")"
   ]
  },
  {
   "cell_type": "code",
   "execution_count": null,
   "metadata": {},
   "outputs": [],
   "source": []
  },
  {
   "cell_type": "code",
   "execution_count": null,
   "metadata": {},
   "outputs": [],
   "source": []
  },
  {
   "cell_type": "code",
   "execution_count": null,
   "metadata": {},
   "outputs": [],
   "source": []
  },
  {
   "cell_type": "code",
   "execution_count": null,
   "metadata": {},
   "outputs": [],
   "source": []
  },
  {
   "cell_type": "code",
   "execution_count": null,
   "metadata": {},
   "outputs": [],
   "source": []
  }
 ],
 "metadata": {
  "kernelspec": {
   "display_name": "Python 3",
   "language": "python",
   "name": "python3"
  },
  "language_info": {
   "codemirror_mode": {
    "name": "ipython",
    "version": 3
   },
   "file_extension": ".py",
   "mimetype": "text/x-python",
   "name": "python",
   "nbconvert_exporter": "python",
   "pygments_lexer": "ipython3",
   "version": "3.7.6"
  }
 },
 "nbformat": 4,
 "nbformat_minor": 2
}
