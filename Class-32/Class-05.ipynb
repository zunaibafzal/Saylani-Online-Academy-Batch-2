{
 "cells": [
  {
   "cell_type": "code",
   "execution_count": 8,
   "metadata": {},
   "outputs": [
    {
     "name": "stdout",
     "output_type": "stream",
     "text": [
      "['Bilal', 'Zunaib', True, 1000, 'Ali']\n"
     ]
    }
   ],
   "source": [
    "students = [\"Bilal\", \"Zunaib\", True, 1000, \"Ali\", 5.25]\n",
    "\n",
    "students.remove(5.25)\n",
    "print(students)"
   ]
  },
  {
   "cell_type": "code",
   "execution_count": 9,
   "metadata": {},
   "outputs": [
    {
     "name": "stdout",
     "output_type": "stream",
     "text": [
      "['Bilal', True, 1000, 'Ali', 5.25]\n"
     ]
    }
   ],
   "source": [
    "students = [\"Bilal\", \"Zunaib\", True, 1000, \"Ali\", 5.25]\n",
    "\n",
    "del students[1]\n",
    "print(students)"
   ]
  },
  {
   "cell_type": "code",
   "execution_count": 12,
   "metadata": {},
   "outputs": [
    {
     "name": "stdout",
     "output_type": "stream",
     "text": [
      "['Bilal', 'Zunaib', 1000, 'Ali', 5.25]\n",
      "True\n"
     ]
    }
   ],
   "source": [
    "students = [\"Bilal\", \"Zunaib\", True, 1000, \"Ali\", 5.25]\n",
    "\n",
    "academy = students.pop(2)\n",
    "print(students)\n",
    "print(academy)"
   ]
  },
  {
   "cell_type": "code",
   "execution_count": 13,
   "metadata": {},
   "outputs": [
    {
     "name": "stdout",
     "output_type": "stream",
     "text": [
      "['Bilal', 'Zunaib', 1000, 'Ali', 5.25]\n"
     ]
    }
   ],
   "source": [
    "print(students)"
   ]
  },
  {
   "cell_type": "code",
   "execution_count": 14,
   "metadata": {},
   "outputs": [
    {
     "name": "stdout",
     "output_type": "stream",
     "text": [
      "[]\n"
     ]
    }
   ],
   "source": [
    "students = [\"Bilal\", \"Zunaib\", True, 1000, \"Ali\", 5.25]\n",
    "\n",
    "students = []\n",
    "print(students)"
   ]
  },
  {
   "cell_type": "code",
   "execution_count": 16,
   "metadata": {},
   "outputs": [
    {
     "name": "stdout",
     "output_type": "stream",
     "text": [
      "['Bilal', True, 1000, 'Ali', 5.25]\n",
      "Zunaib\n"
     ]
    }
   ],
   "source": [
    "students = [\"Bilal\", \"Zunaib\", True, 1000, \"Ali\", 5.25]\n",
    "\n",
    "academy = students.pop(1)\n",
    "print(students)\n",
    "print(academy)"
   ]
  },
  {
   "cell_type": "code",
   "execution_count": 18,
   "metadata": {},
   "outputs": [
    {
     "name": "stdout",
     "output_type": "stream",
     "text": [
      "[]\n"
     ]
    }
   ],
   "source": [
    "students = [\"Bilal\", \"Zunaib\", True, 1000, \"Ali\", 5.25]\n",
    "\n",
    "students = []\n",
    "\n",
    "print(students)\n"
   ]
  },
  {
   "cell_type": "code",
   "execution_count": 26,
   "metadata": {},
   "outputs": [
    {
     "name": "stdout",
     "output_type": "stream",
     "text": [
      "['Bilal', 'Zunaib', True, 1000, 5.25]\n",
      "Ali\n"
     ]
    }
   ],
   "source": [
    "students = [\"Bilal\", \"Zunaib\", True, 1000, \"Ali\", 5.25]\n",
    "students2 = [\"Wajid\", \"Hassan\", False]\n",
    "\n",
    "students2 = students.pop(4)\n",
    "print(students)\n",
    "print(students2)"
   ]
  },
  {
   "cell_type": "code",
   "execution_count": 28,
   "metadata": {},
   "outputs": [
    {
     "name": "stdout",
     "output_type": "stream",
     "text": [
      "['Bilal', 1000, 'Ali', 5.25]\n"
     ]
    }
   ],
   "source": [
    "students = [\"Bilal\", \"Zunaib\", True, 1000, \"Ali\", 5.25]\n",
    "\n",
    "del students[1:3]\n",
    "print(students)"
   ]
  },
  {
   "cell_type": "code",
   "execution_count": 34,
   "metadata": {},
   "outputs": [
    {
     "name": "stdout",
     "output_type": "stream",
     "text": [
      "Bilal\n"
     ]
    }
   ],
   "source": [
    "students = (\"Bilal\", \"Zunaib\", True, 1000, \"Ali\", 5.25)\n",
    "\n",
    "print(students[0])"
   ]
  },
  {
   "cell_type": "code",
   "execution_count": 36,
   "metadata": {},
   "outputs": [
    {
     "name": "stdout",
     "output_type": "stream",
     "text": [
      "Usman\n"
     ]
    }
   ],
   "source": [
    "print(\"Usman\")"
   ]
  },
  {
   "cell_type": "code",
   "execution_count": 41,
   "metadata": {},
   "outputs": [
    {
     "name": "stdout",
     "output_type": "stream",
     "text": [
      "Bilal\n",
      "Zunaib\n",
      "True\n",
      "1000\n",
      "Ali\n",
      "5.25\n"
     ]
    }
   ],
   "source": [
    "students = [\"Bilal\", \"Zunaib\", True, 1000, \"Ali\", 5.25]\n",
    "\n",
    "for academy in students:\n",
    "    print(academy)\n",
    "\n"
   ]
  },
  {
   "cell_type": "code",
   "execution_count": 49,
   "metadata": {},
   "outputs": [
    {
     "name": "stdout",
     "output_type": "stream",
     "text": [
      "['BilalA']\n",
      "['BilalA', 'Bilall']\n",
      "['BilalA', 'Bilall', 'Bilali']\n",
      "['BilalA', 'Bilall', 'Bilali', 'ZunaibA']\n",
      "['BilalA', 'Bilall', 'Bilali', 'ZunaibA', 'Zunaibl']\n",
      "['BilalA', 'Bilall', 'Bilali', 'ZunaibA', 'Zunaibl', 'Zunaibi']\n",
      "['BilalA', 'Bilall', 'Bilali', 'ZunaibA', 'Zunaibl', 'Zunaibi', 'AliA']\n",
      "['BilalA', 'Bilall', 'Bilali', 'ZunaibA', 'Zunaibl', 'Zunaibi', 'AliA', 'Alil']\n",
      "['BilalA', 'Bilall', 'Bilali', 'ZunaibA', 'Zunaibl', 'Zunaibi', 'AliA', 'Alil', 'Alii']\n"
     ]
    }
   ],
   "source": [
    "students = [\"Bilal\", \"Zunaib\", \"Ali\"]\n",
    "student2 = [\"Afzal\"]\n",
    "fullName = []\n",
    "\n",
    "for a in students:\n",
    "    for b in students2:\n",
    "        fullName.append(a + b)\n",
    "        print(fullName)"
   ]
  },
  {
   "cell_type": "code",
   "execution_count": null,
   "metadata": {},
   "outputs": [],
   "source": []
  },
  {
   "cell_type": "code",
   "execution_count": null,
   "metadata": {},
   "outputs": [],
   "source": []
  },
  {
   "cell_type": "code",
   "execution_count": null,
   "metadata": {},
   "outputs": [],
   "source": []
  },
  {
   "cell_type": "code",
   "execution_count": null,
   "metadata": {},
   "outputs": [],
   "source": []
  },
  {
   "cell_type": "code",
   "execution_count": null,
   "metadata": {},
   "outputs": [],
   "source": []
  },
  {
   "cell_type": "code",
   "execution_count": null,
   "metadata": {},
   "outputs": [],
   "source": []
  }
 ],
 "metadata": {
  "kernelspec": {
   "display_name": "Python 3",
   "language": "python",
   "name": "python3"
  },
  "language_info": {
   "codemirror_mode": {
    "name": "ipython",
    "version": 3
   },
   "file_extension": ".py",
   "mimetype": "text/x-python",
   "name": "python",
   "nbconvert_exporter": "python",
   "pygments_lexer": "ipython3",
   "version": "3.7.6"
  }
 },
 "nbformat": 4,
 "nbformat_minor": 4
}
