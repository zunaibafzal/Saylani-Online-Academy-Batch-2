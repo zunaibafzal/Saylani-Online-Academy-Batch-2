{
 "cells": [
  {
   "cell_type": "markdown",
   "metadata": {},
   "source": [
    "# JSON Files"
   ]
  },
  {
   "cell_type": "code",
   "execution_count": 1,
   "metadata": {},
   "outputs": [],
   "source": [
    "import json"
   ]
  },
  {
   "cell_type": "code",
   "execution_count": 15,
   "metadata": {},
   "outputs": [],
   "source": [
    "#Dump Function for Write\n",
    "\n",
    "cities = [\"Karachi\", \"Hyderabad\", \"Lahore\", \"Multan\", \"Faislabad\", \"Islamabad\"]\n",
    "\n",
    "with open(\"myfile.json\", \"w\") as file:\n",
    "    \n",
    "    json.dump(cities, file)"
   ]
  },
  {
   "cell_type": "code",
   "execution_count": 17,
   "metadata": {},
   "outputs": [
    {
     "name": "stdout",
     "output_type": "stream",
     "text": [
      "Lahore\n"
     ]
    }
   ],
   "source": [
    "#Load Function for Read\n",
    "\n",
    "with open(\"myfile.json\", \"r\") as file:\n",
    "    \n",
    "    content = json.load(file)\n",
    "    \n",
    "    \n",
    "    print(content[2])\n",
    " "
   ]
  },
  {
   "cell_type": "code",
   "execution_count": 19,
   "metadata": {},
   "outputs": [],
   "source": [
    "customer = {\n",
    "            \"first name\": \"Zunaib\",\n",
    "            \"last name\": \"Afzal\",\n",
    "              \"address\": \"Karachi, Pakistan.\",\n",
    "          }\n",
    "\n",
    "with open(\"myfile.json\", \"w\") as file:\n",
    "    \n",
    "    json.dump(customer, file)"
   ]
  },
  {
   "cell_type": "code",
   "execution_count": 29,
   "metadata": {},
   "outputs": [
    {
     "name": "stdout",
     "output_type": "stream",
     "text": [
      "{'first name': 'Zunaib', 'last name': 'Afzal', 'address': 'Karachi, Pakistan.'}\n"
     ]
    }
   ],
   "source": [
    "#Load Function for Read\n",
    "\n",
    "with open(\"myfile.json\", \"r\") as file:\n",
    "    \n",
    "    content = json.load(file)\n",
    "    \n",
    "    print(content)"
   ]
  },
  {
   "cell_type": "markdown",
   "metadata": {},
   "source": [
    "# Exception Handling"
   ]
  },
  {
   "cell_type": "code",
   "execution_count": 32,
   "metadata": {},
   "outputs": [
    {
     "name": "stdout",
     "output_type": "stream",
     "text": [
      "First Value: 10\n",
      "Second Value: 20\n",
      "30\n"
     ]
    }
   ],
   "source": [
    "num1 = int(input(\"First Value: \"))\n",
    "num2 = int(input(\"Second Value: \"))\n",
    "result = num1 + num2\n",
    "print(result)"
   ]
  },
  {
   "cell_type": "code",
   "execution_count": 33,
   "metadata": {},
   "outputs": [
    {
     "name": "stdout",
     "output_type": "stream",
     "text": [
      "First Value: 50\n",
      "Second Value: 20\n",
      "70\n"
     ]
    }
   ],
   "source": [
    "try:\n",
    "    num1 = int(input(\"First Value: \"))\n",
    "    num2 = int(input(\"Second Value: \"))\n",
    "    result = num1 + num2\n",
    "    print(result)\n",
    "\n",
    "except:\n",
    "    print(\"You entered wrong value\")"
   ]
  },
  {
   "cell_type": "code",
   "execution_count": 34,
   "metadata": {},
   "outputs": [
    {
     "name": "stdout",
     "output_type": "stream",
     "text": [
      "First Value: 40\n",
      "Second Value: zunaib\n",
      "You entered wrong value\n"
     ]
    }
   ],
   "source": [
    "try:\n",
    "    num1 = int(input(\"First Value: \"))\n",
    "    num2 = int(input(\"Second Value: \"))\n",
    "    result = num1 + num2\n",
    "    print(result)\n",
    "\n",
    "except:\n",
    "    print(\"You entered wrong value\")"
   ]
  },
  {
   "cell_type": "code",
   "execution_count": null,
   "metadata": {},
   "outputs": [],
   "source": []
  }
 ],
 "metadata": {
  "kernelspec": {
   "display_name": "Python 3",
   "language": "python",
   "name": "python3"
  },
  "language_info": {
   "codemirror_mode": {
    "name": "ipython",
    "version": 3
   },
   "file_extension": ".py",
   "mimetype": "text/x-python",
   "name": "python",
   "nbconvert_exporter": "python",
   "pygments_lexer": "ipython3",
   "version": "3.7.1"
  }
 },
 "nbformat": 4,
 "nbformat_minor": 2
}
